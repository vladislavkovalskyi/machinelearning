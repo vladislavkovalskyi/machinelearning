{
  "cells": [
    {
      "cell_type": "markdown",
      "metadata": {
        "id": "O3OteozOgN4W"
      },
      "source": [
        "# **Lab 2: Classification**\n",
        "\n",
        "This notebook demonstrates a complete classification pipeline on the **Adult Income** dataset (known as `adult.data`), building upon the preprocessing steps done in Lab 1. **All steps are already implemented**; you do not need to fill in or modify anything.\n",
        "\n",
        "Steps included:\n",
        "1. **Data loading and minimal preprocessing** (using `adult.data`)\n",
        "2. **Checking class balance**\n",
        "3. **Train/Test split** and metric selection\n",
        "4. **Logistic Regression** (no regularization) + evaluation\n",
        "5. **Cross-validation** for more robust metric estimation\n",
        "6. **Logistic Regression** (with L2 regularization) + hyperparameter tuning (`C`)\n",
        "7. **Another classifier**: k-NN + hyperparameter tuning\n",
        "8. **Comparison** of the two classifiers\n"
      ]
    },
    {
      "cell_type": "code",
      "execution_count": 3,
      "metadata": {
        "id": "SP0xiGlDqe3b"
      },
      "outputs": [],
      "source": [
        "import pandas as pd\n",
        "import numpy as np\n",
        "import matplotlib.pyplot as plt\n",
        "import seaborn as sns\n",
        "\n",
        "from sklearn.model_selection import train_test_split, GridSearchCV, cross_validate\n",
        "from sklearn.linear_model import LogisticRegression\n",
        "from sklearn.metrics import (\n",
        "    accuracy_score, precision_score, recall_score, f1_score,\n",
        "    confusion_matrix, classification_report, roc_auc_score\n",
        ")\n",
        "from sklearn.preprocessing import LabelEncoder, MinMaxScaler\n",
        "from sklearn.neighbors import KNeighborsClassifier\n",
        "\n",
        "pd.set_option('display.max_columns', None)  # to show all columns if needed"
      ]
    },
    {
      "cell_type": "markdown",
      "metadata": {
        "id": "ij3WnH3mgN4X"
      },
      "source": [
        "## 1. Data Loading & Preparation\n",
        "We load the `adult.data` file, drop rows with missing values, and encode the target variable (`income`) into 0/1.\n",
        "We also create dummy variables (One-Hot Encoding) for the categorical features, similarly to Lab 1."
      ]
    },
    {
      "cell_type": "code",
      "execution_count": 4,
      "metadata": {
        "id": "70XVYnKzq60W"
      },
      "outputs": [],
      "source": [
        "column_names = [\n",
        "    \"age\", \"workclass\", \"fnlwgt\", \"education\", \"education_num\", \"marital_status\",\n",
        "    \"occupation\", \"relationship\", \"race\", \"sex\", \"capital_gain\", \"capital_loss\",\n",
        "    \"hours_per_week\", \"native_country\", \"income\"\n",
        "]\n",
        "\n",
        "# Read the dataset\n",
        "df = pd.read_csv(\n",
        "    \"adult.data\",  # ensure 'adult.data' is in the same folder\n",
        "    header=None,\n",
        "    names=column_names,\n",
        "    na_values=' ?'\n",
        ")"
      ]
    },
    {
      "cell_type": "code",
      "execution_count": 5,
      "metadata": {
        "colab": {
          "base_uri": "https://localhost:8080/",
          "height": 554
        },
        "id": "fjo0dp-GrsA1",
        "outputId": "5ed53972-d62b-4a73-e56c-4a0a7b006e7a"
      },
      "outputs": [
        {
          "data": {
            "text/plain": [
              "age               0.000000\n",
              "workclass         5.638647\n",
              "fnlwgt            0.000000\n",
              "education         0.000000\n",
              "education_num     0.000000\n",
              "marital_status    0.000000\n",
              "occupation        5.660146\n",
              "relationship      0.000000\n",
              "race              0.000000\n",
              "sex               0.000000\n",
              "capital_gain      0.000000\n",
              "capital_loss      0.000000\n",
              "hours_per_week    0.000000\n",
              "native_country    1.790486\n",
              "income            0.000000\n",
              "dtype: float64"
            ]
          },
          "execution_count": 5,
          "metadata": {},
          "output_type": "execute_result"
        }
      ],
      "source": [
        "# Check missing values\n",
        "df.isnull().sum() / len(df) * 100"
      ]
    },
    {
      "cell_type": "code",
      "execution_count": 6,
      "metadata": {
        "id": "cGqGoVBLzO2Q"
      },
      "outputs": [],
      "source": [
        "# Fill missing values\n",
        "for col in df.columns:\n",
        "    if pd.api.types.is_numeric_dtype(df[col]):\n",
        "        df[col] = df[col].fillna(df[col].median())  # Fill numeric columns with median\n",
        "    elif pd.api.types.is_object_dtype(df[col]) or pd.api.types.is_categorical_dtype(df[col]):\n",
        "        df[col] = df[col].fillna(df[col].mode()[0])  # Fill categorical columns with mode"
      ]
    },
    {
      "cell_type": "code",
      "execution_count": 7,
      "metadata": {
        "colab": {
          "base_uri": "https://localhost:8080/"
        },
        "id": "eZJtzbfIgN4X",
        "outputId": "b3623a26-24b5-40d4-f967-c341a4ac506d"
      },
      "outputs": [
        {
          "name": "stdout",
          "output_type": "stream",
          "text": [
            "Income classes map:\n"
          ]
        },
        {
          "data": {
            "text/plain": [
              "{' <=50K': np.int64(0), ' >50K': np.int64(1)}"
            ]
          },
          "execution_count": 7,
          "metadata": {},
          "output_type": "execute_result"
        }
      ],
      "source": [
        "# Encode target using LabelEncoder\n",
        "le = LabelEncoder()\n",
        "df[\"income\"] = le.fit_transform(df[\"income\"])  # 0 or 1\n",
        "print(\"Income classes map:\")\n",
        "dict(zip(le.classes_, le.transform(le.classes_)))"
      ]
    },
    {
      "cell_type": "code",
      "execution_count": 8,
      "metadata": {
        "colab": {
          "base_uri": "https://localhost:8080/",
          "height": 206
        },
        "id": "UgD_b4cduICJ",
        "outputId": "6c9b4ca3-a39b-4a27-cf4f-797acb6d1325"
      },
      "outputs": [
        {
          "data": {
            "text/html": [
              "<div>\n",
              "<style scoped>\n",
              "    .dataframe tbody tr th:only-of-type {\n",
              "        vertical-align: middle;\n",
              "    }\n",
              "\n",
              "    .dataframe tbody tr th {\n",
              "        vertical-align: top;\n",
              "    }\n",
              "\n",
              "    .dataframe thead th {\n",
              "        text-align: right;\n",
              "    }\n",
              "</style>\n",
              "<table border=\"1\" class=\"dataframe\">\n",
              "  <thead>\n",
              "    <tr style=\"text-align: right;\">\n",
              "      <th></th>\n",
              "      <th>age</th>\n",
              "      <th>workclass</th>\n",
              "      <th>fnlwgt</th>\n",
              "      <th>education</th>\n",
              "      <th>education_num</th>\n",
              "      <th>marital_status</th>\n",
              "      <th>occupation</th>\n",
              "      <th>relationship</th>\n",
              "      <th>race</th>\n",
              "      <th>sex</th>\n",
              "      <th>capital_gain</th>\n",
              "      <th>capital_loss</th>\n",
              "      <th>hours_per_week</th>\n",
              "      <th>native_country</th>\n",
              "      <th>income</th>\n",
              "    </tr>\n",
              "  </thead>\n",
              "  <tbody>\n",
              "    <tr>\n",
              "      <th>0</th>\n",
              "      <td>39</td>\n",
              "      <td>State-gov</td>\n",
              "      <td>77516</td>\n",
              "      <td>Bachelors</td>\n",
              "      <td>13</td>\n",
              "      <td>Never-married</td>\n",
              "      <td>Adm-clerical</td>\n",
              "      <td>Not-in-family</td>\n",
              "      <td>White</td>\n",
              "      <td>Male</td>\n",
              "      <td>2174</td>\n",
              "      <td>0</td>\n",
              "      <td>40</td>\n",
              "      <td>United-States</td>\n",
              "      <td>0</td>\n",
              "    </tr>\n",
              "    <tr>\n",
              "      <th>1</th>\n",
              "      <td>50</td>\n",
              "      <td>Self-emp-not-inc</td>\n",
              "      <td>83311</td>\n",
              "      <td>Bachelors</td>\n",
              "      <td>13</td>\n",
              "      <td>Married-civ-spouse</td>\n",
              "      <td>Exec-managerial</td>\n",
              "      <td>Husband</td>\n",
              "      <td>White</td>\n",
              "      <td>Male</td>\n",
              "      <td>0</td>\n",
              "      <td>0</td>\n",
              "      <td>13</td>\n",
              "      <td>United-States</td>\n",
              "      <td>0</td>\n",
              "    </tr>\n",
              "    <tr>\n",
              "      <th>2</th>\n",
              "      <td>38</td>\n",
              "      <td>Private</td>\n",
              "      <td>215646</td>\n",
              "      <td>HS-grad</td>\n",
              "      <td>9</td>\n",
              "      <td>Divorced</td>\n",
              "      <td>Handlers-cleaners</td>\n",
              "      <td>Not-in-family</td>\n",
              "      <td>White</td>\n",
              "      <td>Male</td>\n",
              "      <td>0</td>\n",
              "      <td>0</td>\n",
              "      <td>40</td>\n",
              "      <td>United-States</td>\n",
              "      <td>0</td>\n",
              "    </tr>\n",
              "    <tr>\n",
              "      <th>3</th>\n",
              "      <td>53</td>\n",
              "      <td>Private</td>\n",
              "      <td>234721</td>\n",
              "      <td>11th</td>\n",
              "      <td>7</td>\n",
              "      <td>Married-civ-spouse</td>\n",
              "      <td>Handlers-cleaners</td>\n",
              "      <td>Husband</td>\n",
              "      <td>Black</td>\n",
              "      <td>Male</td>\n",
              "      <td>0</td>\n",
              "      <td>0</td>\n",
              "      <td>40</td>\n",
              "      <td>United-States</td>\n",
              "      <td>0</td>\n",
              "    </tr>\n",
              "    <tr>\n",
              "      <th>4</th>\n",
              "      <td>28</td>\n",
              "      <td>Private</td>\n",
              "      <td>338409</td>\n",
              "      <td>Bachelors</td>\n",
              "      <td>13</td>\n",
              "      <td>Married-civ-spouse</td>\n",
              "      <td>Prof-specialty</td>\n",
              "      <td>Wife</td>\n",
              "      <td>Black</td>\n",
              "      <td>Female</td>\n",
              "      <td>0</td>\n",
              "      <td>0</td>\n",
              "      <td>40</td>\n",
              "      <td>Cuba</td>\n",
              "      <td>0</td>\n",
              "    </tr>\n",
              "  </tbody>\n",
              "</table>\n",
              "</div>"
            ],
            "text/plain": [
              "   age          workclass  fnlwgt   education  education_num  \\\n",
              "0   39          State-gov   77516   Bachelors             13   \n",
              "1   50   Self-emp-not-inc   83311   Bachelors             13   \n",
              "2   38            Private  215646     HS-grad              9   \n",
              "3   53            Private  234721        11th              7   \n",
              "4   28            Private  338409   Bachelors             13   \n",
              "\n",
              "        marital_status          occupation    relationship    race      sex  \\\n",
              "0        Never-married        Adm-clerical   Not-in-family   White     Male   \n",
              "1   Married-civ-spouse     Exec-managerial         Husband   White     Male   \n",
              "2             Divorced   Handlers-cleaners   Not-in-family   White     Male   \n",
              "3   Married-civ-spouse   Handlers-cleaners         Husband   Black     Male   \n",
              "4   Married-civ-spouse      Prof-specialty            Wife   Black   Female   \n",
              "\n",
              "   capital_gain  capital_loss  hours_per_week  native_country  income  \n",
              "0          2174             0              40   United-States       0  \n",
              "1             0             0              13   United-States       0  \n",
              "2             0             0              40   United-States       0  \n",
              "3             0             0              40   United-States       0  \n",
              "4             0             0              40            Cuba       0  "
            ]
          },
          "execution_count": 8,
          "metadata": {},
          "output_type": "execute_result"
        }
      ],
      "source": [
        "df.head()"
      ]
    },
    {
      "cell_type": "code",
      "execution_count": 9,
      "metadata": {
        "id": "jGzxlkTRw020"
      },
      "outputs": [],
      "source": [
        "# Combine rare classes into \"Other\"\n",
        "threshold = 0.05  # 5% threshold\n",
        "for col in df.columns:\n",
        "    if pd.api.types.is_object_dtype(df[col]) or isinstance(df[col].dtype, pd.CategoricalDtype):\n",
        "        value_counts = df[col].value_counts(normalize=True)\n",
        "        rare_classes = value_counts[value_counts < threshold].index\n",
        "        df[col] = df[col].apply(lambda x: 'Other' if x in rare_classes else x)"
      ]
    },
    {
      "cell_type": "code",
      "execution_count": 10,
      "metadata": {
        "colab": {
          "base_uri": "https://localhost:8080/",
          "height": 216
        },
        "id": "YfF78EvC2vcQ",
        "outputId": "05e8ada7-8a26-4d99-a3b5-f15a992bd082"
      },
      "outputs": [
        {
          "name": "stdout",
          "output_type": "stream",
          "text": [
            "Data shape after encoding: (32561, 32)\n"
          ]
        },
        {
          "data": {
            "text/html": [
              "<div>\n",
              "<style scoped>\n",
              "    .dataframe tbody tr th:only-of-type {\n",
              "        vertical-align: middle;\n",
              "    }\n",
              "\n",
              "    .dataframe tbody tr th {\n",
              "        vertical-align: top;\n",
              "    }\n",
              "\n",
              "    .dataframe thead th {\n",
              "        text-align: right;\n",
              "    }\n",
              "</style>\n",
              "<table border=\"1\" class=\"dataframe\">\n",
              "  <thead>\n",
              "    <tr style=\"text-align: right;\">\n",
              "      <th></th>\n",
              "      <th>age</th>\n",
              "      <th>fnlwgt</th>\n",
              "      <th>education_num</th>\n",
              "      <th>capital_gain</th>\n",
              "      <th>capital_loss</th>\n",
              "      <th>hours_per_week</th>\n",
              "      <th>income</th>\n",
              "      <th>workclass_ Private</th>\n",
              "      <th>workclass_ Self-emp-not-inc</th>\n",
              "      <th>workclass_Other</th>\n",
              "      <th>education_ HS-grad</th>\n",
              "      <th>education_ Masters</th>\n",
              "      <th>education_ Some-college</th>\n",
              "      <th>education_Other</th>\n",
              "      <th>marital_status_ Married-civ-spouse</th>\n",
              "      <th>marital_status_ Never-married</th>\n",
              "      <th>marital_status_Other</th>\n",
              "      <th>occupation_ Craft-repair</th>\n",
              "      <th>occupation_ Exec-managerial</th>\n",
              "      <th>occupation_ Machine-op-inspct</th>\n",
              "      <th>occupation_ Other-service</th>\n",
              "      <th>occupation_ Prof-specialty</th>\n",
              "      <th>occupation_ Sales</th>\n",
              "      <th>occupation_Other</th>\n",
              "      <th>relationship_ Not-in-family</th>\n",
              "      <th>relationship_ Own-child</th>\n",
              "      <th>relationship_ Unmarried</th>\n",
              "      <th>relationship_Other</th>\n",
              "      <th>race_ White</th>\n",
              "      <th>race_Other</th>\n",
              "      <th>sex_ Male</th>\n",
              "      <th>native_country_Other</th>\n",
              "    </tr>\n",
              "  </thead>\n",
              "  <tbody>\n",
              "    <tr>\n",
              "      <th>0</th>\n",
              "      <td>39</td>\n",
              "      <td>77516</td>\n",
              "      <td>13</td>\n",
              "      <td>2174</td>\n",
              "      <td>0</td>\n",
              "      <td>40</td>\n",
              "      <td>0</td>\n",
              "      <td>0</td>\n",
              "      <td>0</td>\n",
              "      <td>1</td>\n",
              "      <td>0</td>\n",
              "      <td>0</td>\n",
              "      <td>0</td>\n",
              "      <td>0</td>\n",
              "      <td>0</td>\n",
              "      <td>1</td>\n",
              "      <td>0</td>\n",
              "      <td>0</td>\n",
              "      <td>0</td>\n",
              "      <td>0</td>\n",
              "      <td>0</td>\n",
              "      <td>0</td>\n",
              "      <td>0</td>\n",
              "      <td>0</td>\n",
              "      <td>1</td>\n",
              "      <td>0</td>\n",
              "      <td>0</td>\n",
              "      <td>0</td>\n",
              "      <td>1</td>\n",
              "      <td>0</td>\n",
              "      <td>1</td>\n",
              "      <td>0</td>\n",
              "    </tr>\n",
              "    <tr>\n",
              "      <th>1</th>\n",
              "      <td>50</td>\n",
              "      <td>83311</td>\n",
              "      <td>13</td>\n",
              "      <td>0</td>\n",
              "      <td>0</td>\n",
              "      <td>13</td>\n",
              "      <td>0</td>\n",
              "      <td>0</td>\n",
              "      <td>1</td>\n",
              "      <td>0</td>\n",
              "      <td>0</td>\n",
              "      <td>0</td>\n",
              "      <td>0</td>\n",
              "      <td>0</td>\n",
              "      <td>1</td>\n",
              "      <td>0</td>\n",
              "      <td>0</td>\n",
              "      <td>0</td>\n",
              "      <td>1</td>\n",
              "      <td>0</td>\n",
              "      <td>0</td>\n",
              "      <td>0</td>\n",
              "      <td>0</td>\n",
              "      <td>0</td>\n",
              "      <td>0</td>\n",
              "      <td>0</td>\n",
              "      <td>0</td>\n",
              "      <td>0</td>\n",
              "      <td>1</td>\n",
              "      <td>0</td>\n",
              "      <td>1</td>\n",
              "      <td>0</td>\n",
              "    </tr>\n",
              "    <tr>\n",
              "      <th>2</th>\n",
              "      <td>38</td>\n",
              "      <td>215646</td>\n",
              "      <td>9</td>\n",
              "      <td>0</td>\n",
              "      <td>0</td>\n",
              "      <td>40</td>\n",
              "      <td>0</td>\n",
              "      <td>1</td>\n",
              "      <td>0</td>\n",
              "      <td>0</td>\n",
              "      <td>1</td>\n",
              "      <td>0</td>\n",
              "      <td>0</td>\n",
              "      <td>0</td>\n",
              "      <td>0</td>\n",
              "      <td>0</td>\n",
              "      <td>0</td>\n",
              "      <td>0</td>\n",
              "      <td>0</td>\n",
              "      <td>0</td>\n",
              "      <td>0</td>\n",
              "      <td>0</td>\n",
              "      <td>0</td>\n",
              "      <td>1</td>\n",
              "      <td>1</td>\n",
              "      <td>0</td>\n",
              "      <td>0</td>\n",
              "      <td>0</td>\n",
              "      <td>1</td>\n",
              "      <td>0</td>\n",
              "      <td>1</td>\n",
              "      <td>0</td>\n",
              "    </tr>\n",
              "  </tbody>\n",
              "</table>\n",
              "</div>"
            ],
            "text/plain": [
              "   age  fnlwgt  education_num  capital_gain  capital_loss  hours_per_week  \\\n",
              "0   39   77516             13          2174             0              40   \n",
              "1   50   83311             13             0             0              13   \n",
              "2   38  215646              9             0             0              40   \n",
              "\n",
              "   income  workclass_ Private  workclass_ Self-emp-not-inc  workclass_Other  \\\n",
              "0       0                   0                            0                1   \n",
              "1       0                   0                            1                0   \n",
              "2       0                   1                            0                0   \n",
              "\n",
              "   education_ HS-grad  education_ Masters  education_ Some-college  \\\n",
              "0                   0                   0                        0   \n",
              "1                   0                   0                        0   \n",
              "2                   1                   0                        0   \n",
              "\n",
              "   education_Other  marital_status_ Married-civ-spouse  \\\n",
              "0                0                                   0   \n",
              "1                0                                   1   \n",
              "2                0                                   0   \n",
              "\n",
              "   marital_status_ Never-married  marital_status_Other  \\\n",
              "0                              1                     0   \n",
              "1                              0                     0   \n",
              "2                              0                     0   \n",
              "\n",
              "   occupation_ Craft-repair  occupation_ Exec-managerial  \\\n",
              "0                         0                            0   \n",
              "1                         0                            1   \n",
              "2                         0                            0   \n",
              "\n",
              "   occupation_ Machine-op-inspct  occupation_ Other-service  \\\n",
              "0                              0                          0   \n",
              "1                              0                          0   \n",
              "2                              0                          0   \n",
              "\n",
              "   occupation_ Prof-specialty  occupation_ Sales  occupation_Other  \\\n",
              "0                           0                  0                 0   \n",
              "1                           0                  0                 0   \n",
              "2                           0                  0                 1   \n",
              "\n",
              "   relationship_ Not-in-family  relationship_ Own-child  \\\n",
              "0                            1                        0   \n",
              "1                            0                        0   \n",
              "2                            1                        0   \n",
              "\n",
              "   relationship_ Unmarried  relationship_Other  race_ White  race_Other  \\\n",
              "0                        0                   0            1           0   \n",
              "1                        0                   0            1           0   \n",
              "2                        0                   0            1           0   \n",
              "\n",
              "   sex_ Male  native_country_Other  \n",
              "0          1                     0  \n",
              "1          1                     0  \n",
              "2          1                     0  "
            ]
          },
          "metadata": {},
          "output_type": "display_data"
        }
      ],
      "source": [
        "# One-Hot Encoding\n",
        "cat_cols = [\n",
        "    \"workclass\", \"education\", \"marital_status\", \"occupation\",\n",
        "    \"relationship\", \"race\", \"sex\", \"native_country\"\n",
        "]\n",
        "\n",
        "# One-Hot Encoding\n",
        "df_encoded = pd.get_dummies(df, columns=cat_cols, drop_first=True, dtype=np.int8)\n",
        "\n",
        "print(\"Data shape after encoding:\", df_encoded.shape)\n",
        "display(df_encoded.head(3))\n"
      ]
    },
    {
      "cell_type": "code",
      "execution_count": 11,
      "metadata": {
        "colab": {
          "base_uri": "https://localhost:8080/",
          "height": 261
        },
        "id": "KEEaZ1OH34Wm",
        "outputId": "72811458-2352-4c5f-e63e-5630344f6f2b"
      },
      "outputs": [
        {
          "data": {
            "text/html": [
              "<div>\n",
              "<style scoped>\n",
              "    .dataframe tbody tr th:only-of-type {\n",
              "        vertical-align: middle;\n",
              "    }\n",
              "\n",
              "    .dataframe tbody tr th {\n",
              "        vertical-align: top;\n",
              "    }\n",
              "\n",
              "    .dataframe thead th {\n",
              "        text-align: right;\n",
              "    }\n",
              "</style>\n",
              "<table border=\"1\" class=\"dataframe\">\n",
              "  <thead>\n",
              "    <tr style=\"text-align: right;\">\n",
              "      <th></th>\n",
              "      <th>age</th>\n",
              "      <th>fnlwgt</th>\n",
              "      <th>education_num</th>\n",
              "      <th>capital_gain</th>\n",
              "      <th>capital_loss</th>\n",
              "      <th>hours_per_week</th>\n",
              "      <th>income</th>\n",
              "      <th>workclass_ Private</th>\n",
              "      <th>workclass_ Self-emp-not-inc</th>\n",
              "      <th>workclass_Other</th>\n",
              "      <th>education_ HS-grad</th>\n",
              "      <th>education_ Masters</th>\n",
              "      <th>education_ Some-college</th>\n",
              "      <th>education_Other</th>\n",
              "      <th>marital_status_ Married-civ-spouse</th>\n",
              "      <th>marital_status_ Never-married</th>\n",
              "      <th>marital_status_Other</th>\n",
              "      <th>occupation_ Craft-repair</th>\n",
              "      <th>occupation_ Exec-managerial</th>\n",
              "      <th>occupation_ Machine-op-inspct</th>\n",
              "      <th>occupation_ Other-service</th>\n",
              "      <th>occupation_ Prof-specialty</th>\n",
              "      <th>occupation_ Sales</th>\n",
              "      <th>occupation_Other</th>\n",
              "      <th>relationship_ Not-in-family</th>\n",
              "      <th>relationship_ Own-child</th>\n",
              "      <th>relationship_ Unmarried</th>\n",
              "      <th>relationship_Other</th>\n",
              "      <th>race_ White</th>\n",
              "      <th>race_Other</th>\n",
              "      <th>sex_ Male</th>\n",
              "      <th>native_country_Other</th>\n",
              "    </tr>\n",
              "  </thead>\n",
              "  <tbody>\n",
              "    <tr>\n",
              "      <th>0</th>\n",
              "      <td>0.301370</td>\n",
              "      <td>0.044302</td>\n",
              "      <td>0.800000</td>\n",
              "      <td>0.02174</td>\n",
              "      <td>0.0</td>\n",
              "      <td>0.397959</td>\n",
              "      <td>0.0</td>\n",
              "      <td>0.0</td>\n",
              "      <td>0.0</td>\n",
              "      <td>1.0</td>\n",
              "      <td>0.0</td>\n",
              "      <td>0.0</td>\n",
              "      <td>0.0</td>\n",
              "      <td>0.0</td>\n",
              "      <td>0.0</td>\n",
              "      <td>1.0</td>\n",
              "      <td>0.0</td>\n",
              "      <td>0.0</td>\n",
              "      <td>0.0</td>\n",
              "      <td>0.0</td>\n",
              "      <td>0.0</td>\n",
              "      <td>0.0</td>\n",
              "      <td>0.0</td>\n",
              "      <td>0.0</td>\n",
              "      <td>1.0</td>\n",
              "      <td>0.0</td>\n",
              "      <td>0.0</td>\n",
              "      <td>0.0</td>\n",
              "      <td>1.0</td>\n",
              "      <td>0.0</td>\n",
              "      <td>1.0</td>\n",
              "      <td>0.0</td>\n",
              "    </tr>\n",
              "    <tr>\n",
              "      <th>1</th>\n",
              "      <td>0.452055</td>\n",
              "      <td>0.048238</td>\n",
              "      <td>0.800000</td>\n",
              "      <td>0.00000</td>\n",
              "      <td>0.0</td>\n",
              "      <td>0.122449</td>\n",
              "      <td>0.0</td>\n",
              "      <td>0.0</td>\n",
              "      <td>1.0</td>\n",
              "      <td>0.0</td>\n",
              "      <td>0.0</td>\n",
              "      <td>0.0</td>\n",
              "      <td>0.0</td>\n",
              "      <td>0.0</td>\n",
              "      <td>1.0</td>\n",
              "      <td>0.0</td>\n",
              "      <td>0.0</td>\n",
              "      <td>0.0</td>\n",
              "      <td>1.0</td>\n",
              "      <td>0.0</td>\n",
              "      <td>0.0</td>\n",
              "      <td>0.0</td>\n",
              "      <td>0.0</td>\n",
              "      <td>0.0</td>\n",
              "      <td>0.0</td>\n",
              "      <td>0.0</td>\n",
              "      <td>0.0</td>\n",
              "      <td>0.0</td>\n",
              "      <td>1.0</td>\n",
              "      <td>0.0</td>\n",
              "      <td>1.0</td>\n",
              "      <td>0.0</td>\n",
              "    </tr>\n",
              "    <tr>\n",
              "      <th>2</th>\n",
              "      <td>0.287671</td>\n",
              "      <td>0.138113</td>\n",
              "      <td>0.533333</td>\n",
              "      <td>0.00000</td>\n",
              "      <td>0.0</td>\n",
              "      <td>0.397959</td>\n",
              "      <td>0.0</td>\n",
              "      <td>1.0</td>\n",
              "      <td>0.0</td>\n",
              "      <td>0.0</td>\n",
              "      <td>1.0</td>\n",
              "      <td>0.0</td>\n",
              "      <td>0.0</td>\n",
              "      <td>0.0</td>\n",
              "      <td>0.0</td>\n",
              "      <td>0.0</td>\n",
              "      <td>0.0</td>\n",
              "      <td>0.0</td>\n",
              "      <td>0.0</td>\n",
              "      <td>0.0</td>\n",
              "      <td>0.0</td>\n",
              "      <td>0.0</td>\n",
              "      <td>0.0</td>\n",
              "      <td>1.0</td>\n",
              "      <td>1.0</td>\n",
              "      <td>0.0</td>\n",
              "      <td>0.0</td>\n",
              "      <td>0.0</td>\n",
              "      <td>1.0</td>\n",
              "      <td>0.0</td>\n",
              "      <td>1.0</td>\n",
              "      <td>0.0</td>\n",
              "    </tr>\n",
              "    <tr>\n",
              "      <th>3</th>\n",
              "      <td>0.493151</td>\n",
              "      <td>0.151068</td>\n",
              "      <td>0.400000</td>\n",
              "      <td>0.00000</td>\n",
              "      <td>0.0</td>\n",
              "      <td>0.397959</td>\n",
              "      <td>0.0</td>\n",
              "      <td>1.0</td>\n",
              "      <td>0.0</td>\n",
              "      <td>0.0</td>\n",
              "      <td>0.0</td>\n",
              "      <td>0.0</td>\n",
              "      <td>0.0</td>\n",
              "      <td>1.0</td>\n",
              "      <td>1.0</td>\n",
              "      <td>0.0</td>\n",
              "      <td>0.0</td>\n",
              "      <td>0.0</td>\n",
              "      <td>0.0</td>\n",
              "      <td>0.0</td>\n",
              "      <td>0.0</td>\n",
              "      <td>0.0</td>\n",
              "      <td>0.0</td>\n",
              "      <td>1.0</td>\n",
              "      <td>0.0</td>\n",
              "      <td>0.0</td>\n",
              "      <td>0.0</td>\n",
              "      <td>0.0</td>\n",
              "      <td>0.0</td>\n",
              "      <td>0.0</td>\n",
              "      <td>1.0</td>\n",
              "      <td>0.0</td>\n",
              "    </tr>\n",
              "    <tr>\n",
              "      <th>4</th>\n",
              "      <td>0.150685</td>\n",
              "      <td>0.221488</td>\n",
              "      <td>0.800000</td>\n",
              "      <td>0.00000</td>\n",
              "      <td>0.0</td>\n",
              "      <td>0.397959</td>\n",
              "      <td>0.0</td>\n",
              "      <td>1.0</td>\n",
              "      <td>0.0</td>\n",
              "      <td>0.0</td>\n",
              "      <td>0.0</td>\n",
              "      <td>0.0</td>\n",
              "      <td>0.0</td>\n",
              "      <td>0.0</td>\n",
              "      <td>1.0</td>\n",
              "      <td>0.0</td>\n",
              "      <td>0.0</td>\n",
              "      <td>0.0</td>\n",
              "      <td>0.0</td>\n",
              "      <td>0.0</td>\n",
              "      <td>0.0</td>\n",
              "      <td>1.0</td>\n",
              "      <td>0.0</td>\n",
              "      <td>0.0</td>\n",
              "      <td>0.0</td>\n",
              "      <td>0.0</td>\n",
              "      <td>0.0</td>\n",
              "      <td>1.0</td>\n",
              "      <td>0.0</td>\n",
              "      <td>0.0</td>\n",
              "      <td>0.0</td>\n",
              "      <td>1.0</td>\n",
              "    </tr>\n",
              "  </tbody>\n",
              "</table>\n",
              "</div>"
            ],
            "text/plain": [
              "        age    fnlwgt  education_num  capital_gain  capital_loss  \\\n",
              "0  0.301370  0.044302       0.800000       0.02174           0.0   \n",
              "1  0.452055  0.048238       0.800000       0.00000           0.0   \n",
              "2  0.287671  0.138113       0.533333       0.00000           0.0   \n",
              "3  0.493151  0.151068       0.400000       0.00000           0.0   \n",
              "4  0.150685  0.221488       0.800000       0.00000           0.0   \n",
              "\n",
              "   hours_per_week  income  workclass_ Private  workclass_ Self-emp-not-inc  \\\n",
              "0        0.397959     0.0                 0.0                          0.0   \n",
              "1        0.122449     0.0                 0.0                          1.0   \n",
              "2        0.397959     0.0                 1.0                          0.0   \n",
              "3        0.397959     0.0                 1.0                          0.0   \n",
              "4        0.397959     0.0                 1.0                          0.0   \n",
              "\n",
              "   workclass_Other  education_ HS-grad  education_ Masters  \\\n",
              "0              1.0                 0.0                 0.0   \n",
              "1              0.0                 0.0                 0.0   \n",
              "2              0.0                 1.0                 0.0   \n",
              "3              0.0                 0.0                 0.0   \n",
              "4              0.0                 0.0                 0.0   \n",
              "\n",
              "   education_ Some-college  education_Other  \\\n",
              "0                      0.0              0.0   \n",
              "1                      0.0              0.0   \n",
              "2                      0.0              0.0   \n",
              "3                      0.0              1.0   \n",
              "4                      0.0              0.0   \n",
              "\n",
              "   marital_status_ Married-civ-spouse  marital_status_ Never-married  \\\n",
              "0                                 0.0                            1.0   \n",
              "1                                 1.0                            0.0   \n",
              "2                                 0.0                            0.0   \n",
              "3                                 1.0                            0.0   \n",
              "4                                 1.0                            0.0   \n",
              "\n",
              "   marital_status_Other  occupation_ Craft-repair  \\\n",
              "0                   0.0                       0.0   \n",
              "1                   0.0                       0.0   \n",
              "2                   0.0                       0.0   \n",
              "3                   0.0                       0.0   \n",
              "4                   0.0                       0.0   \n",
              "\n",
              "   occupation_ Exec-managerial  occupation_ Machine-op-inspct  \\\n",
              "0                          0.0                            0.0   \n",
              "1                          1.0                            0.0   \n",
              "2                          0.0                            0.0   \n",
              "3                          0.0                            0.0   \n",
              "4                          0.0                            0.0   \n",
              "\n",
              "   occupation_ Other-service  occupation_ Prof-specialty  occupation_ Sales  \\\n",
              "0                        0.0                         0.0                0.0   \n",
              "1                        0.0                         0.0                0.0   \n",
              "2                        0.0                         0.0                0.0   \n",
              "3                        0.0                         0.0                0.0   \n",
              "4                        0.0                         1.0                0.0   \n",
              "\n",
              "   occupation_Other  relationship_ Not-in-family  relationship_ Own-child  \\\n",
              "0               0.0                          1.0                      0.0   \n",
              "1               0.0                          0.0                      0.0   \n",
              "2               1.0                          1.0                      0.0   \n",
              "3               1.0                          0.0                      0.0   \n",
              "4               0.0                          0.0                      0.0   \n",
              "\n",
              "   relationship_ Unmarried  relationship_Other  race_ White  race_Other  \\\n",
              "0                      0.0                 0.0          1.0         0.0   \n",
              "1                      0.0                 0.0          1.0         0.0   \n",
              "2                      0.0                 0.0          1.0         0.0   \n",
              "3                      0.0                 0.0          0.0         0.0   \n",
              "4                      0.0                 1.0          0.0         0.0   \n",
              "\n",
              "   sex_ Male  native_country_Other  \n",
              "0        1.0                   0.0  \n",
              "1        1.0                   0.0  \n",
              "2        1.0                   0.0  \n",
              "3        1.0                   0.0  \n",
              "4        0.0                   1.0  "
            ]
          },
          "execution_count": 11,
          "metadata": {},
          "output_type": "execute_result"
        }
      ],
      "source": [
        "# Min-Max scaling\n",
        "scaler = MinMaxScaler()\n",
        "\n",
        "df_encoded = pd.DataFrame(scaler.fit_transform(df_encoded), columns=df_encoded.columns)\n",
        "\n",
        "df_encoded.head()"
      ]
    },
    {
      "cell_type": "markdown",
      "metadata": {
        "id": "ckTOhytCgN4Y"
      },
      "source": [
        "## 2. Checking Class Balance\n",
        "We count how many 0's and 1's exist in the target. If the dataset were heavily imbalanced, we'd consider special metrics or balancing techniques.\n"
      ]
    },
    {
      "cell_type": "code",
      "execution_count": 12,
      "metadata": {
        "colab": {
          "base_uri": "https://localhost:8080/",
          "height": 574
        },
        "id": "bKOvnYoVgN4Y",
        "outputId": "96ce3f85-0c3e-44e0-afa0-f865c7106f6f"
      },
      "outputs": [
        {
          "name": "stdout",
          "output_type": "stream",
          "text": [
            "Class Distribution:\n",
            "Class 0 (<=50K): 24720\n",
            "Class 1 (>50K):  7841\n"
          ]
        },
        {
          "data": {
            "image/png": "[encoded data removed]",
            "text/plain": [
              "<Figure size 600x600 with 1 Axes>"
            ]
          },
          "metadata": {},
          "output_type": "display_data"
        }
      ],
      "source": [
        "# Class distribution\n",
        "class_counts = df_encoded[\"income\"].value_counts()\n",
        "num_class0 = class_counts[0]\n",
        "num_class1 = class_counts[1]\n",
        "\n",
        "# Print results\n",
        "print(f\"Class Distribution:\")\n",
        "print(f\"Class 0 (<=50K): {num_class0}\")\n",
        "print(f\"Class 1 (>50K):  {num_class1}\")\n",
        "\n",
        "# Visualization: Pie Chart\n",
        "plt.figure(figsize=(6, 6))\n",
        "class_counts.plot(\n",
        "    kind='pie',\n",
        "    autopct='%1.1f%%',\n",
        "    colors=['skyblue', 'orange'],\n",
        "    labels=['<=50K', '>50K'],\n",
        "    startangle=90,\n",
        "    explode=(0.05, 0.05),\n",
        "    shadow=True\n",
        ")\n",
        "plt.title(\"Target Class Distribution (Income)\", fontsize=14)\n",
        "plt.ylabel(\"\")  # Removes default ylabel\n",
        "plt.show()"
      ]
    },
    {
      "cell_type": "markdown",
      "metadata": {
        "id": "rJgAD8pYgN4Y"
      },
      "source": [
        "Typically, the dataset has about 75% of rows with income `<=50K` and 25% with `>50K`.\n",
        "We see it's not extremely imbalanced, but there's still a skew. We'll keep that in mind for metrics."
      ]
    },
    {
      "cell_type": "markdown",
      "metadata": {
        "id": "XUHfCFH_7llY"
      },
      "source": [
        "##3. Choosing a Metric: AUC-ROC\n",
        "\n",
        "For a binary classification task with a 75/25 class imbalance, AUC-ROC is chosen as the primary optimization metric. It effectively evaluates the model's ability to distinguish between classes by considering both sensitivity (recall) and specificity. This makes AUC-ROC especially useful for imbalanced datasets, as it focuses on ranking predictions rather than relying on a fixed threshold.\n",
        "\n",
        "** Additional Metrics for Evaluation**\n",
        "\n",
        "While AUC-ROC will be optimized, other metrics can provide complementary insights into model performance:\n",
        "\n",
        "- **Accuracy**: Measures the overall correctness of predictions. It can be misleading in imbalanced datasets, as it might favor the majority class.\n",
        "\n",
        "- **Precision**: Indicates the proportion of correctly predicted positive cases out of all predicted positives. Useful in scenarios where minimizing false positives is critical.\n",
        "\n",
        "- **Recall (Sensitivity)**: Reflects the proportion of actual positives correctly identified by the model. Important when false negatives carry a high cost (e.g., in medical diagnoses).\n",
        "\n",
        "- **F1-Score**: A harmonic mean of precision and recall, balancing their trade-off. Suitable for imbalanced datasets when both metrics are equally important.\n",
        "\n",
        "These metrics will be used for evaluation and comparison, but the primary focus remains on optimizing AUC-ROC to ensure robust performance on the imbalanced dataset.\n",
        "\n"
      ]
    },
    {
      "cell_type": "markdown",
      "metadata": {
        "id": "4_LWpzOwgN4Y"
      },
      "source": [
        "## 4. Train/Test Split"
      ]
    },
    {
      "cell_type": "code",
      "execution_count": 13,
      "metadata": {
        "colab": {
          "base_uri": "https://localhost:8080/"
        },
        "id": "qLCj-y-FgN4Y",
        "outputId": "7149365a-5979-43c1-9c85-53efdb4ed7b4"
      },
      "outputs": [
        {
          "name": "stdout",
          "output_type": "stream",
          "text": [
            "X_train shape: (26048, 31)\n",
            "X_test shape : (6513, 31)\n"
          ]
        }
      ],
      "source": [
        "# Separate features and target\n",
        "X = df_encoded.drop(columns=[\"income\"])\n",
        "y = df_encoded[\"income\"]\n",
        "\n",
        "X_train, X_test, y_train, y_test = train_test_split(\n",
        "    X, y, test_size=0.2, random_state=42, stratify=y\n",
        ")\n",
        "\n",
        "print(\"X_train shape:\", X_train.shape)\n",
        "print(\"X_test shape :\", X_test.shape)"
      ]
    },
    {
      "cell_type": "markdown",
      "metadata": {
        "id": "g4_yS8G4gN4Y"
      },
      "source": [
        "## 4. Logistic Regression (No Regularization)\n",
        "By default, `LogisticRegression` uses L2 regularization. We'll try disabling it (`penalty='none'`) or set a very large `C` if needed.\n",
        "\n",
        "Then we train on the train set and evaluate on both train/test to see if there's overfitting."
      ]
    },
    {
      "cell_type": "code",
      "execution_count": 14,
      "metadata": {
        "id": "pu599wKT9WuJ"
      },
      "outputs": [],
      "source": [
        "# Initialize the logistic regression model\n",
        "log_reg = LogisticRegression(random_state=42, penalty=None)\n",
        "log_reg.fit(X_train, y_train);"
      ]
    },
    {
      "cell_type": "code",
      "execution_count": 15,
      "metadata": {},
      "outputs": [
        {
          "name": "stdout",
          "output_type": "stream",
          "text": [
            "Coefficients: [[ 1.76008548e+00  8.35460958e-01  4.68497869e+00  3.06730274e+01\n",
            "   2.73038925e+00  2.98889182e+00 -2.31848833e-03 -5.19775520e-01\n",
            "   2.22857785e-01 -2.27461914e-02 -1.13687985e-02  9.94509610e-02\n",
            "  -5.20232108e-02  2.84927565e+00 -3.80926050e-01  6.76416776e-02\n",
            "   1.48304381e-01  7.80634176e-01 -2.28602050e-01 -7.00953273e-01\n",
            "   2.97401927e-01  3.00189014e-01 -4.37183829e-02  1.12210599e+00\n",
            "  -3.21274346e-01  9.61951762e-01  1.02405592e+00  2.10714923e-01\n",
            "   9.99722249e-03  6.85668819e-01 -1.79888181e-01]]\n",
            "Intercept: [-9.37143263]\n"
          ]
        }
      ],
      "source": [
        "print(\"Coefficients:\", log_reg.coef_)\n",
        "print(\"Intercept:\", log_reg.intercept_)"
      ]
    },
    {
      "cell_type": "code",
      "execution_count": 16,
      "metadata": {
        "id": "DNCY0fmV_q5o"
      },
      "outputs": [],
      "source": [
        "def evaluate_model(estimator, X_test, y_test):\n",
        "    \"\"\"\n",
        "    Evaluates a binary classification model and prints key metrics, including a confusion matrix.\n",
        "\n",
        "    Parameters:\n",
        "    - estimator: The trained model (e.g., LogisticRegression, RandomForestClassifier).\n",
        "    - X_test: Test feature set.\n",
        "    - y_test: True labels for the test set.\n",
        "    \"\"\"\n",
        "    # Predict probabilities and classes\n",
        "    y_proba = estimator.predict_proba(X_test)[:, 1]  # Predicted probabilities for class 1\n",
        "    y_pred = estimator.predict(X_test)              # Predicted classes\n",
        "\n",
        "    # Calculate metrics\n",
        "    accuracy = accuracy_score(y_test, y_pred)\n",
        "    precision = precision_score(y_test, y_pred)\n",
        "    recall = recall_score(y_test, y_pred)\n",
        "    f1 = f1_score(y_test, y_pred)\n",
        "    auc = roc_auc_score(y_test, y_proba)\n",
        "\n",
        "    # Print metrics\n",
        "    print(f\"Model Evaluation Metrics:\")\n",
        "    print(f\"Accuracy:  {accuracy:.3f}\")\n",
        "    print(f\"Precision: {precision:.3f}\")\n",
        "    print(f\"Recall:    {recall:.3f}\")\n",
        "    print(f\"F1-Score:  {f1:.3f}\")\n",
        "    print(f\"AUC-ROC:   {auc:.3f}\")\n",
        "\n",
        "    # Confusion Matrix\n",
        "    cm = confusion_matrix(y_test, y_pred)\n",
        "    plt.figure(figsize=(6, 6))\n",
        "    sns.heatmap(cm, annot=True, fmt='d', cmap='Blues', xticklabels=['Class 0', 'Class 1'], yticklabels=['Class 0', 'Class 1'])\n",
        "    plt.title('Confusion Matrix')\n",
        "    plt.xlabel('Predicted Label')\n",
        "    plt.ylabel('True Label')\n",
        "    plt.show()\n",
        "    plt.tight_layout();"
      ]
    },
    {
      "cell_type": "code",
      "execution_count": 17,
      "metadata": {
        "colab": {
          "base_uri": "https://localhost:8080/",
          "height": 703
        },
        "id": "dYrLI7PBEJaR",
        "outputId": "fcea6a79-8fba-489f-d974-014898b06fa6"
      },
      "outputs": [
        {
          "name": "stdout",
          "output_type": "stream",
          "text": [
            "TRAIN\n",
            "Model Evaluation Metrics:\n",
            "Accuracy:  0.846\n",
            "Precision: 0.727\n",
            "Recall:    0.577\n",
            "F1-Score:  0.643\n",
            "AUC-ROC:   0.902\n"
          ]
        },
        {
          "data": {
            "image/png": "[encoded data removed]",
            "text/plain": [
              "<Figure size 600x600 with 2 Axes>"
            ]
          },
          "metadata": {},
          "output_type": "display_data"
        },
        {
          "data": {
            "text/plain": [
              "<Figure size 640x480 with 0 Axes>"
            ]
          },
          "metadata": {},
          "output_type": "display_data"
        }
      ],
      "source": [
        "print(\"TRAIN\")\n",
        "evaluate_model(log_reg, X_train, y_train)"
      ]
    },
    {
      "cell_type": "code",
      "execution_count": 18,
      "metadata": {
        "colab": {
          "base_uri": "https://localhost:8080/",
          "height": 703
        },
        "id": "ZfIvmVdUANt9",
        "outputId": "58ee7716-721a-4b6a-80db-057a03b32d38"
      },
      "outputs": [
        {
          "name": "stdout",
          "output_type": "stream",
          "text": [
            "TEST\n",
            "Model Evaluation Metrics:\n",
            "Accuracy:  0.853\n",
            "Precision: 0.740\n",
            "Recall:    0.599\n",
            "F1-Score:  0.662\n",
            "AUC-ROC:   0.906\n"
          ]
        },
        {
          "data": {
            "image/png": "[encoded data removed]",
            "text/plain": [
              "<Figure size 600x600 with 2 Axes>"
            ]
          },
          "metadata": {},
          "output_type": "display_data"
        },
        {
          "data": {
            "text/plain": [
              "<Figure size 640x480 with 0 Axes>"
            ]
          },
          "metadata": {},
          "output_type": "display_data"
        }
      ],
      "source": [
        "print(\"TEST\")\n",
        "evaluate_model(log_reg, X_test, y_test)"
      ]
    },
    {
      "cell_type": "markdown",
      "metadata": {
        "id": "u2FehQiwgN4Z"
      },
      "source": [
        "We compare the **train** vs **test** performance. A large gap may indicate overfitting.\n",
        "Look at the confusion matrix to see how the model handles each class."
      ]
    },
    {
      "cell_type": "markdown",
      "metadata": {
        "id": "czddjXlWgN4Z"
      },
      "source": [
        "## 5. Cross-Validation\n",
        "We can further evaluate stability using k-fold cross-validation (e.g., k=5)."
      ]
    },
    {
      "cell_type": "code",
      "execution_count": 19,
      "metadata": {
        "colab": {
          "base_uri": "https://localhost:8080/"
        },
        "id": "cGijCQR3gN4Z",
        "outputId": "eaf5e309-8bca-4b2b-f3aa-a4a4e558861c"
      },
      "outputs": [
        {
          "name": "stdout",
          "output_type": "stream",
          "text": [
            "ACCURACY | mean(train)=0.848, std(train)=0.001 |  mean(test)=0.848, std(test)=0.003\n",
            "PRECISION | mean(train)=0.733, std(train)=0.001 |  mean(test)=0.731, std(test)=0.007\n",
            "RECALL | mean(train)=0.581, std(train)=0.004 |  mean(test)=0.582, std(test)=0.010\n",
            "F1 | mean(train)=0.648, std(train)=0.002 |  mean(test)=0.648, std(test)=0.008\n",
            "ROC_AUC | mean(train)=0.903, std(train)=0.001 |  mean(test)=0.902, std(test)=0.005\n"
          ]
        }
      ],
      "source": [
        "# Define the scoring metrics\n",
        "scoring = ['accuracy', 'precision', 'recall', 'f1', 'roc_auc']\n",
        "# Perform cross-validation\n",
        "scores = cross_validate(log_reg, X, y, cv=5, scoring=scoring, return_train_score=True)\n",
        "\n",
        "# Print results\n",
        "for metric in scoring:\n",
        "    train_vals = scores[f'train_{metric}']\n",
        "    test_vals = scores[f'test_{metric}']\n",
        "    print(f\"{metric.upper()} | mean(train)={train_vals.mean():.3f}, std(train)={train_vals.std():.3f} | \",\n",
        "          f\"mean(test)={test_vals.mean():.3f}, std(test)={test_vals.std():.3f}\")"
      ]
    },
    {
      "cell_type": "markdown",
      "metadata": {
        "id": "xUyAR0u0gN4Z"
      },
      "source": [
        "Compare these cross-validation scores with the single train/test performance above.\n",
        "A large standard deviation indicates more variability across folds."
      ]
    },
    {
      "cell_type": "markdown",
      "metadata": {
        "id": "45aJCv4dgN4Z"
      },
      "source": [
        "## 6. Logistic Regression (L2 Regularization) + Hyperparameter Tuning\n",
        "By default, `LogisticRegression` uses L2 with `C=1.0`. We'll do a small grid search on `C` to see if we can improve performance or reduce overfitting."
      ]
    },
    {
      "cell_type": "code",
      "execution_count": 20,
      "metadata": {
        "colab": {
          "base_uri": "https://localhost:8080/",
          "height": 720
        },
        "id": "QsNWJRj5gN4Z",
        "outputId": "90168c73-d1f8-4d45-82e4-f70ec9ae0720"
      },
      "outputs": [
        {
          "name": "stdout",
          "output_type": "stream",
          "text": [
            "Best params: {'C': 100}\n",
            "Best CV score: 0.9007047313501275\n",
            "Model Evaluation Metrics:\n",
            "Accuracy:  0.853\n",
            "Precision: 0.741\n",
            "Recall:    0.598\n",
            "F1-Score:  0.661\n",
            "AUC-ROC:   0.906\n"
          ]
        },
        {
          "data": {
            "image/png": "[encoded data removed]",
            "text/plain": [
              "<Figure size 600x600 with 2 Axes>"
            ]
          },
          "metadata": {},
          "output_type": "display_data"
        },
        {
          "data": {
            "text/plain": [
              "<Figure size 640x480 with 0 Axes>"
            ]
          },
          "metadata": {},
          "output_type": "display_data"
        }
      ],
      "source": [
        "param_grid = {\n",
        "    'C': [0.01, 0.1, 1, 10, 100, 1000]\n",
        "}\n",
        "\n",
        "logreg_l2 = LogisticRegression(\n",
        "    penalty=\"l2\"\n",
        ")\n",
        "\n",
        "grid_search = GridSearchCV(\n",
        "    estimator=logreg_l2,\n",
        "    param_grid=param_grid,\n",
        "    scoring='roc_auc',  # Use ROC AUC as the scoring metric\n",
        "    cv=5,               # 5-fold cross-validation\n",
        "    n_jobs=-1           # Use all available processors\n",
        ")\n",
        "\n",
        "grid_search.fit(X_train, y_train)\n",
        "\n",
        "print(\"Best params:\", grid_search.best_params_)\n",
        "print(\"Best CV score:\", grid_search.best_score_)\n",
        "\n",
        "# Evaluate on test set\n",
        "best_logreg = grid_search.best_estimator_\n",
        "evaluate_model(best_logreg, X_test, y_test)"
      ]
    },
    {
      "cell_type": "markdown",
      "metadata": {
        "id": "YKy38YDdgN4Z"
      },
      "source": [
        "If overfitting was present before, a smaller `C` might help.\n",
        "Check how metrics changed relative to the no-regularization model."
      ]
    },
    {
      "cell_type": "markdown",
      "metadata": {
        "id": "L8i-AmF7gN4Z"
      },
      "source": [
        "## 7. Another Classifier: k-NN\n",
        "We'll train k-NN as our second classifier. Because k-NN relies on distances, we **scale** features first.\n",
        "\n",
        "Then we'll do a simple GridSearch over `n_neighbors` and maybe `weights`."
      ]
    },
    {
      "cell_type": "code",
      "execution_count": 21,
      "metadata": {
        "colab": {
          "base_uri": "https://localhost:8080/",
          "height": 720
        },
        "id": "lfp5LrJ3gN4Z",
        "outputId": "caa642b6-122c-406d-dd7e-50586d3e35b3"
      },
      "outputs": [
        {
          "name": "stdout",
          "output_type": "stream",
          "text": [
            "Best k-NN params: {'n_neighbors': 50, 'weights': 'uniform'}\n",
            "Best k-NN CV score: 0.8756643118728155\n",
            "Model Evaluation Metrics:\n",
            "Accuracy:  0.834\n",
            "Precision: 0.697\n",
            "Recall:    0.549\n",
            "F1-Score:  0.614\n",
            "AUC-ROC:   0.881\n"
          ]
        },
        {
          "data": {
            "image/png": "[encoded data removed]",
            "text/plain": [
              "<Figure size 600x600 with 2 Axes>"
            ]
          },
          "metadata": {},
          "output_type": "display_data"
        },
        {
          "data": {
            "text/plain": [
              "<Figure size 640x480 with 0 Axes>"
            ]
          },
          "metadata": {},
          "output_type": "display_data"
        }
      ],
      "source": [
        "knn_params = {\n",
        "    'n_neighbors': [3, 5, 15, 50, 100],\n",
        "    'weights': ['uniform', 'distance']\n",
        "}\n",
        "\n",
        "knn = KNeighborsClassifier()\n",
        "\n",
        "knn_gs = GridSearchCV(\n",
        "    estimator=knn,\n",
        "    param_grid=knn_params,\n",
        "    scoring='roc_auc',\n",
        "    cv=5,\n",
        "    n_jobs=-1\n",
        ")\n",
        "\n",
        "knn_gs.fit(X_train, y_train)\n",
        "\n",
        "print(\"Best k-NN params:\", knn_gs.best_params_)\n",
        "print(\"Best k-NN CV score:\", knn_gs.best_score_)\n",
        "\n",
        "knn_best = knn_gs.best_estimator_\n",
        "evaluate_model(knn_best, X_test, y_test)"
      ]
    },
    {
      "cell_type": "markdown",
      "metadata": {
        "id": "1dEAmUCAgN4Z"
      },
      "source": [
        "## 8. Comparison of Logistic Regression vs k-NN\n",
        "Now we have **two** trained classifiers:\n",
        "1. Best L2-regularized Logistic Regression (from grid search)\n",
        "2. Best k-NN (from grid search)\n",
        "\n",
        "Let's compare them on the test set side by side."
      ]
    },
    {
      "cell_type": "code",
      "execution_count": 22,
      "metadata": {
        "colab": {
          "base_uri": "https://localhost:8080/",
          "height": 686
        },
        "id": "G1wGNU7vgN4Z",
        "outputId": "9d8e508b-6f1d-4e7c-fbce-3127078dc659"
      },
      "outputs": [
        {
          "name": "stdout",
          "output_type": "stream",
          "text": [
            "Model Evaluation Metrics:\n",
            "Accuracy:  0.853\n",
            "Precision: 0.741\n",
            "Recall:    0.598\n",
            "F1-Score:  0.661\n",
            "AUC-ROC:   0.906\n"
          ]
        },
        {
          "data": {
            "image/png": "[encoded data removed]",
            "text/plain": [
              "<Figure size 600x600 with 2 Axes>"
            ]
          },
          "metadata": {},
          "output_type": "display_data"
        },
        {
          "data": {
            "text/plain": [
              "<Figure size 640x480 with 0 Axes>"
            ]
          },
          "metadata": {},
          "output_type": "display_data"
        }
      ],
      "source": [
        "evaluate_model(best_logreg, X_test, y_test)"
      ]
    },
    {
      "cell_type": "code",
      "execution_count": 23,
      "metadata": {
        "colab": {
          "base_uri": "https://localhost:8080/",
          "height": 686
        },
        "id": "4Cg0dyBfP69H",
        "outputId": "2d876be8-d3ed-43a3-aa57-96666ffbcfa7"
      },
      "outputs": [
        {
          "name": "stdout",
          "output_type": "stream",
          "text": [
            "Model Evaluation Metrics:\n",
            "Accuracy:  0.834\n",
            "Precision: 0.697\n",
            "Recall:    0.549\n",
            "F1-Score:  0.614\n",
            "AUC-ROC:   0.881\n"
          ]
        },
        {
          "data": {
            "image/png": "[encoded data removed]",
            "text/plain": [
              "<Figure size 600x600 with 2 Axes>"
            ]
          },
          "metadata": {},
          "output_type": "display_data"
        },
        {
          "data": {
            "text/plain": [
              "<Figure size 640x480 with 0 Axes>"
            ]
          },
          "metadata": {},
          "output_type": "display_data"
        }
      ],
      "source": [
        "evaluate_model(knn_best, X_test, y_test)"
      ]
    }
  ],
  "metadata": {
    "colab": {
      "provenance": []
    },
    "kernelspec": {
      "display_name": "3.12.4",
      "language": "python",
      "name": "python3"
    },
    "language_info": {
      "codemirror_mode": {
        "name": "ipython",
        "version": 3
      },
      "file_extension": ".py",
      "mimetype": "text/x-python",
      "name": "python",
      "nbconvert_exporter": "python",
      "pygments_lexer": "ipython3",
      "version": "3.12.4"
    }
  },
  "nbformat": 4,
  "nbformat_minor": 0
}
